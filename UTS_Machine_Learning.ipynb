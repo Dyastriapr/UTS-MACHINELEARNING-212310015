{
  "nbformat": 4,
  "nbformat_minor": 0,
  "metadata": {
    "colab": {
      "provenance": []
    },
    "kernelspec": {
      "name": "python3",
      "display_name": "Python 3"
    },
    "language_info": {
      "name": "python"
    }
  },
  "cells": [
    {
      "cell_type": "markdown",
      "source": [
        "# NO 2 praproses data"
      ],
      "metadata": {
        "id": "ev1JBeApem4S"
      }
    },
    {
      "cell_type": "code",
      "execution_count": 2,
      "metadata": {
        "colab": {
          "base_uri": "https://localhost:8080/"
        },
        "id": "zMIZ95Txejbg",
        "outputId": "f63ff9f5-5b46-41e2-ec80-9dc897f8cc3e"
      },
      "outputs": [
        {
          "output_type": "stream",
          "name": "stdout",
          "text": [
            "Statistik deskriptif sebelum pengisian missing value dan standarisasi:\n",
            "\n",
            "       battery_power       blue  clock_speed     dual_sim           fc  \\\n",
            "count    1990.000000  2000.0000  2000.000000  2000.000000  2000.000000   \n",
            "mean     1237.867839     0.4950     1.522250     0.509500     4.309500   \n",
            "std       439.676025     0.5001     0.816004     0.500035     4.341444   \n",
            "min       501.000000     0.0000     0.500000     0.000000     0.000000   \n",
            "25%       850.250000     0.0000     0.700000     0.000000     1.000000   \n",
            "50%      1225.000000     0.0000     1.500000     1.000000     3.000000   \n",
            "75%      1615.000000     1.0000     2.200000     1.000000     7.000000   \n",
            "max      1998.000000     1.0000     3.000000     1.000000    19.000000   \n",
            "\n",
            "            four_g   int_memory        m_dep    mobile_wt      n_cores  \\\n",
            "count  2000.000000  1990.000000  2000.000000  1990.000000  2000.000000   \n",
            "mean      0.521500    31.987940     0.501750   140.344221     4.520500   \n",
            "std       0.499662    18.136427     0.288416    35.407114     2.287837   \n",
            "min       0.000000     2.000000     0.100000    80.000000     1.000000   \n",
            "25%       0.000000    16.000000     0.200000   109.000000     3.000000   \n",
            "50%       1.000000    32.000000     0.500000   141.000000     4.000000   \n",
            "75%       1.000000    48.000000     0.800000   170.000000     7.000000   \n",
            "max       1.000000    64.000000     1.000000   200.000000     8.000000   \n",
            "\n",
            "                pc    px_height     px_width          ram         sc_h  \\\n",
            "count  2000.000000  2000.000000  2000.000000  1990.000000  2000.000000   \n",
            "mean      9.916500   645.108000  1251.515500  2124.991960    12.306500   \n",
            "std       6.064315   443.780811   432.199447  1084.885362     4.213245   \n",
            "min       0.000000     0.000000   500.000000   256.000000     5.000000   \n",
            "25%       5.000000   282.750000   874.750000  1208.250000     9.000000   \n",
            "50%      10.000000   564.000000  1247.000000  2146.500000    12.000000   \n",
            "75%      15.000000   947.250000  1633.000000  3065.500000    16.000000   \n",
            "max      20.000000  1960.000000  1998.000000  3998.000000    19.000000   \n",
            "\n",
            "              sc_w    talk_time      three_g  touch_screen         wifi  \n",
            "count  2000.000000  2000.000000  2000.000000   2000.000000  2000.000000  \n",
            "mean      5.767000    11.011000     0.761500      0.503000     0.507000  \n",
            "std       4.356398     5.463955     0.426273      0.500116     0.500076  \n",
            "min       0.000000     2.000000     0.000000      0.000000     0.000000  \n",
            "25%       2.000000     6.000000     1.000000      0.000000     0.000000  \n",
            "50%       5.000000    11.000000     1.000000      1.000000     1.000000  \n",
            "75%       9.000000    16.000000     1.000000      1.000000     1.000000  \n",
            "max      18.000000    20.000000     1.000000      1.000000     1.000000  \n",
            "\n",
            "Statistik deskriptif setelah pengisian missing value dan standarisasi:\n",
            "\n",
            "       battery_power          blue   clock_speed      dual_sim            fc  \\\n",
            "count   2.000000e+03  2.000000e+03  2.000000e+03  2.000000e+03  2.000000e+03   \n",
            "mean   -1.563194e-16 -1.243450e-17 -1.545430e-16  8.082424e-17  5.861978e-17   \n",
            "std     1.000250e+00  1.000250e+00  1.000250e+00  1.000250e+00  1.000250e+00   \n",
            "min    -1.680562e+00 -9.900495e-01 -1.253064e+00 -1.019184e+00 -9.928904e-01   \n",
            "25%    -8.806122e-01 -9.900495e-01 -1.007906e+00 -1.019184e+00 -7.624947e-01   \n",
            "50%    -1.680370e-02 -9.900495e-01 -2.727384e-02  9.811771e-01 -3.017032e-01   \n",
            "75%     8.578380e-01  1.010051e+00  8.307794e-01  9.811771e-01  6.198797e-01   \n",
            "max     1.733620e+00  1.010051e+00  1.811412e+00  9.811771e-01  3.384628e+00   \n",
            "\n",
            "             four_g    int_memory         m_dep     mobile_wt       n_cores  \\\n",
            "count  2.000000e+03  2.000000e+03  2.000000e+03  2.000000e+03  2.000000e+03   \n",
            "mean   1.048051e-16  5.684342e-17 -1.030287e-16 -3.765876e-16 -7.727152e-17   \n",
            "std    1.000250e+00  1.000250e+00  1.000250e+00  1.000250e+00  1.000250e+00   \n",
            "min   -1.043966e+00 -1.658030e+00 -1.393304e+00 -1.709003e+00 -1.539175e+00   \n",
            "25%   -1.043966e+00 -8.839717e-01 -1.046495e+00 -8.876966e-01 -6.647678e-01   \n",
            "50%    9.578860e-01  0.000000e+00 -6.069151e-03  1.857225e-02 -2.275644e-01   \n",
            "75%    9.578860e-01  8.853054e-01  1.034357e+00  8.398784e-01  1.084046e+00   \n",
            "max    9.578860e-01  1.769944e+00  1.727974e+00  1.689505e+00  1.521249e+00   \n",
            "\n",
            "                 pc     px_height      px_width           ram          sc_h  \\\n",
            "count  2.000000e+03  2.000000e+03  2.000000e+03  2.000000e+03  2.000000e+03   \n",
            "mean   1.403322e-16  1.181277e-16  6.084022e-17 -1.492140e-16  4.884981e-17   \n",
            "std    1.000250e+00  1.000250e+00  1.000250e+00  1.000250e+00  1.000250e+00   \n",
            "min   -1.635631e+00 -1.454027e+00 -1.739251e+00 -1.727512e+00 -1.734608e+00   \n",
            "25%   -8.109291e-01 -8.167289e-01 -8.719579e-01 -8.450354e-01 -7.849833e-01   \n",
            "50%    1.377252e-02 -1.828116e-01 -1.045034e-02  5.091091e-03 -7.276497e-02   \n",
            "75%    8.384742e-01  6.810064e-01  8.828792e-01  8.642295e-01  8.768595e-01   \n",
            "max    1.663176e+00  2.963672e+00  1.727608e+00  1.731225e+00  1.589078e+00   \n",
            "\n",
            "               sc_w     talk_time       three_g  touch_screen          wifi  \n",
            "count  2.000000e+03  2.000000e+03  2.000000e+03  2.000000e+03  2.000000e+03  \n",
            "mean  -5.506706e-17  1.421085e-16  1.421085e-17 -5.417888e-17  1.421085e-17  \n",
            "std    1.000250e+00  1.000250e+00  1.000250e+00  1.000250e+00  1.000250e+00  \n",
            "min   -1.324131e+00 -1.649584e+00 -1.786861e+00 -1.006018e+00 -1.014099e+00  \n",
            "25%   -8.649215e-01 -9.173306e-01  5.596406e-01 -1.006018e+00 -1.014099e+00  \n",
            "50%   -1.761069e-01 -2.013697e-03  5.596406e-01  9.940179e-01  9.860966e-01  \n",
            "75%    7.423125e-01  9.133032e-01  5.596406e-01  9.940179e-01  9.860966e-01  \n",
            "max    2.808756e+00  1.645557e+00  5.596406e-01  9.940179e-01  9.860966e-01  \n"
          ]
        }
      ],
      "source": [
        "import pandas as pd\n",
        "from sklearn.impute import SimpleImputer\n",
        "from sklearn.preprocessing import StandardScaler\n",
        "\n",
        "# Load data\n",
        "data = pd.read_csv('/content/mobileprice_modified.csv')\n",
        "\n",
        "# **Replace 'price_range' with the actual name of your target column**\n",
        "target_column_name = 'price_range'\n",
        "\n",
        "# 1. Pisahkan atribut prediktor dan target\n",
        "X = data.drop(columns=[target_column_name])  # Use the actual target column name\n",
        "y = data[target_column_name]  # Use the actual target column name\n",
        "\n",
        "# Tampilkan statistik deskriptif sebelum pengisian missing value dan standarisasi\n",
        "print(\"Statistik deskriptif sebelum pengisian missing value dan standarisasi:\\n\")\n",
        "print(X.describe())\n",
        "\n",
        "# 2. Mengisi missing value dengan SimpleImputer (strategi mean)\n",
        "imputer = SimpleImputer(strategy='mean')\n",
        "X_imputed = imputer.fit_transform(X)\n",
        "X_imputed = pd.DataFrame(X_imputed, columns=X.columns)\n",
        "\n",
        "# 3. Standarisasi atribut prediktor dengan StandardScaler\n",
        "scaler = StandardScaler()\n",
        "X_scaled = scaler.fit_transform(X_imputed)\n",
        "X_scaled = pd.DataFrame(X_scaled, columns=X.columns)\n",
        "\n",
        "# Tampilkan statistik deskriptif setelah pengisian missing value dan standarisasi\n",
        "print(\"\\nStatistik deskriptif setelah pengisian missing value dan standarisasi:\\n\")\n",
        "print(X_scaled.describe())"
      ]
    },
    {
      "cell_type": "markdown",
      "source": [
        "# NO 3 membangun model"
      ],
      "metadata": {
        "id": "bfW6Q1ndjXUk"
      }
    },
    {
      "cell_type": "code",
      "source": [
        "import pandas as pd\n",
        "from sklearn.impute import SimpleImputer\n",
        "from sklearn.preprocessing import StandardScaler\n",
        "from sklearn.model_selection import train_test_split\n",
        "from sklearn.svm import SVC\n",
        "from sklearn.metrics import confusion_matrix, accuracy_score\n",
        "\n",
        "# Load data\n",
        "data = pd.read_csv('/content/mobileprice_modified.csv')\n",
        "\n",
        "# 1. Pisahkan atribut prediktor dan target\n",
        "X = data.drop(columns=['price_range'])  # Ganti 'target_column' dengan nama kolom target yang sesuai\n",
        "y = data['price_range']  # Ganti 'target_column' dengan nama kolom target yang sesuai\n",
        "\n",
        "# 2. Mengisi missing value dengan SimpleImputer (strategi mean)\n",
        "imputer = SimpleImputer(strategy='mean')\n",
        "X_imputed = imputer.fit_transform(X)\n",
        "\n",
        "# 3. Standarisasi atribut prediktor dengan StandardScaler\n",
        "scaler = StandardScaler()\n",
        "X_scaled = scaler.fit_transform(X_imputed)\n",
        "\n",
        "# 4. Bagi data menjadi data training dan testing (85% training, 15% testing)\n",
        "X_train, X_test, y_train, y_test = train_test_split(X_scaled, y, test_size=0.15, random_state=42)\n",
        "\n",
        "# 5. Bangun model SVM dan latih model\n",
        "model = SVC()\n",
        "model.fit(X_train, y_train)\n",
        "\n",
        "# 6. Prediksi data testing\n",
        "y_pred = model.predict(X_test)\n",
        "\n",
        "# 7. Tampilkan confusion matrix dan akurasi dari model\n",
        "conf_matrix = confusion_matrix(y_test, y_pred)\n",
        "accuracy = accuracy_score(y_test, y_pred)\n",
        "\n",
        "print(\"Confusion Matrix:\\n\", conf_matrix)\n",
        "print(\"\\nAkurasi Model:\", accuracy)\n"
      ],
      "metadata": {
        "colab": {
          "base_uri": "https://localhost:8080/"
        },
        "id": "Ma18Jzl0lNiD",
        "outputId": "a20205e0-9852-4258-8eca-12bddb129b36"
      },
      "execution_count": 5,
      "outputs": [
        {
          "output_type": "stream",
          "name": "stdout",
          "text": [
            "Confusion Matrix:\n",
            " [[74  6  0  0]\n",
            " [ 5 60  7  0]\n",
            " [ 0  8 56  4]\n",
            " [ 0  0  6 74]]\n",
            "\n",
            "Akurasi Model: 0.88\n"
          ]
        }
      ]
    },
    {
      "cell_type": "markdown",
      "source": [
        "# no 4 clustering"
      ],
      "metadata": {
        "id": "vj9T-wc-nc9Q"
      }
    },
    {
      "cell_type": "code",
      "source": [
        "import pandas as pd\n",
        "from sklearn.impute import SimpleImputer\n",
        "from sklearn.preprocessing import StandardScaler\n",
        "from sklearn.cluster import KMeans\n",
        "from sklearn.metrics import silhouette_score\n",
        "import matplotlib.pyplot as plt\n",
        "\n",
        "# Load data\n",
        "data = pd.read_csv('/content/mobileprice_modified.csv')\n",
        "\n",
        "# 1. Pisahkan atribut prediktor dan target\n",
        "X = data.drop(columns=['price_range'])  # Ganti 'target_column' dengan nama kolom target yang sesuai\n",
        "\n",
        "# 2. Mengisi missing value dengan SimpleImputer (strategi mean)\n",
        "imputer = SimpleImputer(strategy='mean')\n",
        "X_imputed = imputer.fit_transform(X)\n",
        "\n",
        "# 3. Standarisasi atribut prediktor dengan StandardScaler\n",
        "scaler = StandardScaler()\n",
        "X_scaled = scaler.fit_transform(X_imputed)\n",
        "\n",
        "# 4. Menentukan jumlah klaster optimal dengan Elbow Method\n",
        "inertia = []\n",
        "k_values = range(2, 11)  # Jumlah klaster dari 2 hingga 10\n",
        "for k in k_values:\n",
        "    kmeans = KMeans(n_clusters=k, random_state=42)\n",
        "    kmeans.fit(X_scaled)\n",
        "    inertia.append(kmeans.inertia_)\n",
        "\n",
        "# Plot Elbow Method untuk menentukan jumlah klaster optimal\n",
        "plt.figure(figsize=(8, 6))\n",
        "plt.plot(k_values, inertia, marker='o')\n",
        "plt.xlabel('Jumlah Klaster (k)')\n",
        "plt.ylabel('Inertia')\n",
        "plt.title('Elbow Method untuk Menentukan Jumlah Klaster Optimal')\n",
        "plt.show()\n",
        "\n",
        "# 5. Melatih model K-Means dengan jumlah klaster optimal (misalnya, k = 3)\n",
        "# (Gantilah k sesuai hasil dari Elbow Method)\n",
        "optimal_k = 3\n",
        "kmeans = KMeans(n_clusters=optimal_k, random_state=42)\n",
        "clusters = kmeans.fit_predict(X_scaled)\n",
        "\n",
        "# 6. Menghitung Silhouette Score\n",
        "silhouette_avg = silhouette_score(X_scaled, clusters)\n",
        "print(f\"Silhouette Score untuk model clustering dengan {optimal_k} klaster: {silhouette_avg}\")\n",
        "\n",
        "# 7. Tambahkan label klaster ke dataset asli\n",
        "data['Cluster'] = clusters\n",
        "\n",
        "# Tampilkan sebagian hasil clustering\n",
        "print(data[['price_range', 'Cluster']].head())  # Ganti 'target_column' dengan kolom target yang sesuai\n"
      ],
      "metadata": {
        "colab": {
          "base_uri": "https://localhost:8080/",
          "height": 686
        },
        "id": "w6i7JHNSng7C",
        "outputId": "5a2e6ef7-2ad3-4b55-bba5-5576125da3bb"
      },
      "execution_count": 7,
      "outputs": [
        {
          "output_type": "display_data",
          "data": {
            "text/plain": [
              "<Figure size 800x600 with 1 Axes>"
            ],
            "image/png": "[encoded data removed]"
          },
          "metadata": {}
        },
        {
          "output_type": "stream",
          "name": "stdout",
          "text": [
            "Silhouette Score untuk model clustering dengan 3 klaster: 0.0605507481735327\n",
            "   price_range  Cluster\n",
            "0            1        0\n",
            "1            2        2\n",
            "2            2        2\n",
            "3            2        2\n",
            "4            1        2\n"
          ]
        }
      ]
    }
  ]
}